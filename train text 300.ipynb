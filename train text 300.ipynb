{
 "cells": [
  {
   "cell_type": "code",
   "execution_count": 1,
   "metadata": {},
   "outputs": [
    {
     "name": "stdout",
     "output_type": "stream",
     "text": [
      "strat\n",
      "Current Time = 10:22:25\n",
      "end\n",
      "Current Time = 12:20:55\n"
     ]
    }
   ],
   "source": [
    "import gensim\n",
    "import codecs\n",
    "from datetime import datetime\n",
    "\n",
    "\n",
    "#class to pass to gensim large file that need encode (most case - non english text)\n",
    "class SentenceIterator:\n",
    "    def __init__(self, filepath,encodeType):\n",
    "        self.filepath = filepath\n",
    "        self.encode = encodeType\n",
    "\n",
    "    def __iter__(self):\n",
    "        for line in codecs.open(self.filepath,encoding=self.encode):\n",
    "            yield line.split()\n",
    "\n",
    "#creat the object, replace example.txt withe your file path, if its in the script folder the file name is enough\n",
    "#enter your file codec, in my example its utf 8, but it can be utf-16-le or something else\n",
    "print(\"strat\")\n",
    "now = datetime.now()\n",
    "current_time = now.strftime(\"%H:%M:%S\")\n",
    "print(\"Current Time =\", current_time)\n",
    "\n",
    "sentences = SentenceIterator(\"all.txt\",\"utf-16-le\")\n",
    "\n",
    "#train your model with CBOW algorithm - make yourself cup of coffee or whats you like and wait\n",
    "model = gensim.models.Word2Vec(sentences,workers=4,iter=56,size=300,min_count=10)\n",
    "print(\"end\")\n",
    "now = datetime.now()\n",
    "current_time = now.strftime(\"%H:%M:%S\")\n",
    "print(\"Current Time =\", current_time)\n",
    "\n",
    "#train the model with skip-gram algorithm\n",
    "#modelSg = gensim.models.Word2Vec(sentences,sg=1)\n",
    "\n",
    "#save your file in the current dir\n",
    "#model.wv.save_word2vec_format(\"w2v_of_heb_format_utf8\")\n",
    "model.save(\"w2v_56_300dim_heb\")\n"
   ]
  },
  {
   "cell_type": "code",
   "execution_count": 2,
   "metadata": {},
   "outputs": [],
   "source": [
    "m = gensim.models.Word2Vec.load(\"w2v_56_300dim_heb\")"
   ]
  },
  {
   "cell_type": "code",
   "execution_count": 6,
   "metadata": {},
   "outputs": [
    {
     "data": {
      "text/plain": [
       "164667"
      ]
     },
     "execution_count": 6,
     "metadata": {},
     "output_type": "execute_result"
    }
   ],
   "source": [
    "len(m.wv.vocab)"
   ]
  },
  {
   "cell_type": "code",
   "execution_count": null,
   "metadata": {},
   "outputs": [],
   "source": []
  }
 ],
 "metadata": {
  "kernelspec": {
   "display_name": "Python 3",
   "language": "python",
   "name": "python3"
  },
  "language_info": {
   "codemirror_mode": {
    "name": "ipython",
    "version": 3
   },
   "file_extension": ".py",
   "mimetype": "text/x-python",
   "name": "python",
   "nbconvert_exporter": "python",
   "pygments_lexer": "ipython3",
   "version": "3.7.4"
  }
 },
 "nbformat": 4,
 "nbformat_minor": 2
}
