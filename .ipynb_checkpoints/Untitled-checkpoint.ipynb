{
 "cells": [
  {
   "cell_type": "code",
   "execution_count": 7,
   "metadata": {},
   "outputs": [],
   "source": [
    "import gensim\n",
    "import numpy\n",
    "import utils"
   ]
  },
  {
   "cell_type": "code",
   "execution_count": 2,
   "metadata": {},
   "outputs": [],
   "source": [
    "mf=gensim.models.KeyedVectors.load_word2vec_format(\"heb_56_format.model\")"
   ]
  },
  {
   "cell_type": "code",
   "execution_count": 3,
   "metadata": {},
   "outputs": [
    {
     "data": {
      "text/plain": [
       "[(\"תור'\", 0.8581427335739136),\n",
       " ('תוה\"ק', 0.6465150117874146),\n",
       " ('תורתנו', 0.633912205696106),\n",
       " ('התורה', 0.6330113410949707),\n",
       " ('תורתינו', 0.624259352684021),\n",
       " ('התוה\"ק', 0.6239135265350342),\n",
       " ('שהתורה', 0.6010247468948364),\n",
       " ('והתורה', 0.5958966016769409),\n",
       " ('סופרים', 0.5799136161804199),\n",
       " ('דהתורה', 0.5599405169487)]"
      ]
     },
     "execution_count": 3,
     "metadata": {},
     "output_type": "execute_result"
    }
   ],
   "source": [
    "mf.most_similar('תורה')"
   ]
  },
  {
   "cell_type": "code",
   "execution_count": 4,
   "metadata": {},
   "outputs": [],
   "source": [
    "m56= gensim.models.Word2Vec.load(\"heb_56\")"
   ]
  },
  {
   "cell_type": "code",
   "execution_count": 5,
   "metadata": {},
   "outputs": [
    {
     "name": "stderr",
     "output_type": "stream",
     "text": [
      "C:\\Users\\AVI\\Anaconda3\\lib\\site-packages\\ipykernel_launcher.py:1: DeprecationWarning: Call to deprecated `most_similar` (Method will be removed in 4.0.0, use self.wv.most_similar() instead).\n",
      "  \"\"\"Entry point for launching an IPython kernel.\n"
     ]
    },
    {
     "data": {
      "text/plain": [
       "[(\"גמר'\", 0.8874664306640625),\n",
       " (\"גמ'\", 0.8734763860702515),\n",
       " ('תלמודא', 0.7939516305923462),\n",
       " ('ש\"ס', 0.7900691032409668),\n",
       " ('הש\"ס', 0.7342031002044678),\n",
       " ('הגמרא', 0.7264176607131958),\n",
       " ('סוגיא', 0.7201734185218811),\n",
       " (\"תלמוד'\", 0.7158252000808716),\n",
       " (\"סוגי'\", 0.7025781869888306),\n",
       " (\"הגמ'\", 0.7019315361976624)]"
      ]
     },
     "execution_count": 5,
     "metadata": {},
     "output_type": "execute_result"
    }
   ],
   "source": [
    "m56.most_similar(\"גמרא\")"
   ]
  },
  {
   "cell_type": "code",
   "execution_count": 47,
   "metadata": {},
   "outputs": [],
   "source": [
    "lst=['אבי','הי\"ו','הצעיר','הראשונים','הרה\"ג','ואביו','והנ\"י','ז\"ל','זי\"ע','זיע\"א','זלה\"ה','זללה\"ה','זצ\"ל','זצוק\"ל','זקני','יצ\"ו','כמה\"ר','כמוה\"ר','מהר\"ר','מו\"ר','נ\"י','נ\"ר','נר\"ו','סילט\"א','ע\"ה','שליט\"א','תלמידי']\n",
    "vl=vec_list(lst,mf)"
   ]
  },
  {
   "cell_type": "code",
   "execution_count": 22,
   "metadata": {},
   "outputs": [],
   "source": [
    "from sklearn.cluster import DBSCAN"
   ]
  },
  {
   "cell_type": "code",
   "execution_count": 83,
   "metadata": {},
   "outputs": [],
   "source": [
    "def func(vec1,vec2):\n",
    "    return numpy.dot(vec1, vec2)/(numpy.linalg.norm(vec1)* numpy.linalg.norm(vec2))\n",
    "db=DBSCAN(eps=0.9,metric=func,min_samples=25).fit(vl)"
   ]
  },
  {
   "cell_type": "code",
   "execution_count": 84,
   "metadata": {},
   "outputs": [],
   "source": [
    "def vec_list(vec,model):\n",
    "    res = []\n",
    "    for element in vec:\n",
    "        res.append(model[element])\n",
    "    return res"
   ]
  },
  {
   "cell_type": "code",
   "execution_count": 85,
   "metadata": {},
   "outputs": [
    {
     "data": {
      "text/plain": [
       "array([0, 0, 0, 0, 0, 0, 0, 0, 0, 0, 0, 0, 0, 0, 0, 0, 0, 0, 0, 0, 0, 0,\n",
       "       0, 0, 0, 0, 0], dtype=int64)"
      ]
     },
     "execution_count": 85,
     "metadata": {},
     "output_type": "execute_result"
    }
   ],
   "source": [
    "db.labels_"
   ]
  },
  {
   "cell_type": "code",
   "execution_count": null,
   "metadata": {},
   "outputs": [],
   "source": [
    "model."
   ]
  }
 ],
 "metadata": {
  "kernelspec": {
   "display_name": "Python 3",
   "language": "python",
   "name": "python3"
  },
  "language_info": {
   "codemirror_mode": {
    "name": "ipython",
    "version": 3
   },
   "file_extension": ".py",
   "mimetype": "text/x-python",
   "name": "python",
   "nbconvert_exporter": "python",
   "pygments_lexer": "ipython3",
   "version": "3.7.4"
  }
 },
 "nbformat": 4,
 "nbformat_minor": 2
}
