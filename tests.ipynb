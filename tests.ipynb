{
 "cells": [
  {
   "cell_type": "code",
   "execution_count": 1,
   "metadata": {},
   "outputs": [],
   "source": [
    "import gensim\n",
    "import numpy\n",
    "import utils\n",
    "import matplotlib.pyplot as plt \n",
    "lst1=['אבי','הי\"ו','הצעיר','הראשונים','הרה\"ג','ואביו','והנ\"י','ז\"ל','זי\"ע','זיע\"א','זלה\"ה','זללה\"ה','זצ\"ל','זצוק\"ל','זקני','יצ\"ו','כמה\"ר','כמוה\"ר','מהר\"ר','מו\"ר','נ\"י','נ\"ר','נר\"ו','סילט\"א','ע\"ה','שליט\"א','תלמידי']\n",
    "lst=['נר\"ו',\n",
    "'יצ\"ו', \n",
    "'זצוק\"ל', \n",
    "'הי\"ו', \n",
    "'זלה\"ה', \n",
    "'שליט\"א', \n",
    "'נ\"י', \n",
    "'עט\"ר',\n",
    "'זללה\"ה',\n",
    "'ז\"ל',\n",
    "'מו\"ר',\n",
    "'זי\"ע',\n",
    "'נ\"ר',\n",
    "\"ני'\",\n",
    "'ידידי',\n",
    "'אהובי',\n",
    "'ידי\"נ',\n",
    "'נ\"ע',\n",
    "'נלב\"ע',\n",
    "'מ\"ר',\n",
    "'שיחיה',\n",
    "\"שיחי'\",\n",
    "'אאמו\"ר',\n",
    "'מו\"ח',\n",
    "'זצלה\"ה',\n",
    "'זצוקללה\"ה',\n",
    "'ידינ\"פ']"
   ]
  },
  {
   "cell_type": "code",
   "execution_count": 2,
   "metadata": {},
   "outputs": [],
   "source": [
    "a=gensim.models.Word2Vec.load(\"w2v_56_300dim_heb\")"
   ]
  },
  {
   "cell_type": "code",
   "execution_count": 46,
   "metadata": {},
   "outputs": [],
   "source": [
    "a=utils.remove_dim(lst,a,150)"
   ]
  },
  {
   "cell_type": "code",
   "execution_count": 50,
   "metadata": {},
   "outputs": [],
   "source": [
    "def word_by_vec(vec,model):\n",
    "    return model.wv.most_similar(positive=[vec],topn=1)[0][0]\n",
    "def my_check(lst,model):\n",
    "    max=a.wv.get_vector(lst[0]).astype(list)\n",
    "    min=a.wv.get_vector(lst[0]).astype(list)\n",
    "    for i in lst:\n",
    "        for d in range(len(a.wv.get_vector(i))):\n",
    "            if max[d]<a.wv.get_vector(i)[d]:\n",
    "                max[d]=a.wv.get_vector(i)[d]\n",
    "                \n",
    "            if min[d]>a.wv.get_vector(i)[d]:\n",
    "                min[d]=a.wv.get_vector(i)[d]\n",
    "    res=[]\n",
    "    for i in a.wv.vectors:\n",
    "        flag=True\n",
    "        d=0\n",
    "        while flag is True and d<len(i):\n",
    "            if i[d] <min[d]-1 or i[d] >max[d]+1:\n",
    "                flag=False\n",
    "            d+=1\n",
    "        if flag is True:\n",
    "            res.append((word_by_vec(i,model)))\n",
    "    return res"
   ]
  },
  {
   "cell_type": "code",
   "execution_count": 51,
   "metadata": {},
   "outputs": [
    {
     "data": {
      "text/plain": [
       "'נר\"ו'"
      ]
     },
     "execution_count": 51,
     "metadata": {},
     "output_type": "execute_result"
    }
   ],
   "source": [
    "(a.wv.most_similar(positive=[a.wv.get_vector(lst[0])],topn=1))[0][0]"
   ]
  },
  {
   "cell_type": "code",
   "execution_count": null,
   "metadata": {},
   "outputs": [],
   "source": [
    "my_check(lst,a)"
   ]
  },
  {
   "cell_type": "code",
   "execution_count": 18,
   "metadata": {},
   "outputs": [],
   "source": [
    "vec = a.wv.get_vector(lst[0])"
   ]
  },
  {
   "cell_type": "code",
   "execution_count": 33,
   "metadata": {},
   "outputs": [],
   "source": [
    "v=vec.astype(list)\n",
    "v[0]=0"
   ]
  },
  {
   "cell_type": "code",
   "execution_count": 35,
   "metadata": {},
   "outputs": [
    {
     "data": {
      "text/plain": [
       "0"
      ]
     },
     "execution_count": 35,
     "metadata": {},
     "output_type": "execute_result"
    }
   ],
   "source": [
    "def remove_dim(lst,model,dim,by_var=False):\n",
    "    arr=[]\n",
    "    var_lst=(my_var(lst,model))\n",
    "    var_lst.sort(key=lambda k:k[1])\n",
    "    if by_var == True:\n",
    "        for i in var_lst:\n",
    "            if i[1]<=dim:\n",
    "                arr.append(i[0])\n",
    "    else:\n",
    "        for i in var_lst[:dim]:\n",
    "            arr.append(i[0])\n",
    "    arr.sort()\n",
    "    vectors=model.wv.vectors[:,arr]\n",
    "    model.wv.vectors=vectors\n",
    "    model.wv.vectors_norm=None\n",
    "    model.wv.init_sims()\n",
    "    return model\n"
   ]
  },
  {
   "cell_type": "code",
   "execution_count": null,
   "metadata": {},
   "outputs": [],
   "source": []
  }
 ],
 "metadata": {
  "kernelspec": {
   "display_name": "Python 3",
   "language": "python",
   "name": "python3"
  },
  "language_info": {
   "codemirror_mode": {
    "name": "ipython",
    "version": 3
   },
   "file_extension": ".py",
   "mimetype": "text/x-python",
   "name": "python",
   "nbconvert_exporter": "python",
   "pygments_lexer": "ipython3",
   "version": "3.7.4"
  }
 },
 "nbformat": 4,
 "nbformat_minor": 2
}
