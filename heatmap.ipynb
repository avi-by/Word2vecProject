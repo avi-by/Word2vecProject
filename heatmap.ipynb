{
 "cells": [
  {
   "cell_type": "code",
   "execution_count": 28,
   "metadata": {},
   "outputs": [],
   "source": [
    "import gensim\n",
    "import numpy\n",
    "import numpy as np\n",
    "import utils\n",
    "import matplotlib\n",
    "import matplotlib.pyplot as plt \n",
    "#old list\n",
    "lst1=['אבי','הי\"ו','הצעיר','הראשונים','הרה\"ג','ואביו','והנ\"י','ז\"ל','זי\"ע','זיע\"א','זלה\"ה','זללה\"ה','זצ\"ל','זצוק\"ל'\n",
    "      ,'זקני','יצ\"ו','כמה\"ר','כמוה\"ר','מהר\"ר','מו\"ר','נ\"י','נ\"ר','נר\"ו','סילט\"א','ע\"ה','שליט\"א','תלמידי']\n",
    "#new list\n",
    "lst=['נר\"ו','יצ\"ו','זצוק\"ל','הי\"ו','זלה\"ה','שליט\"א','נ\"י','עט\"ר','זללה\"ה','ז\"ל','מו\"ר','זי\"ע','נ\"ר',\n",
    "\"ני'\",'ידידי','אהובי','ידי\"נ','נ\"ע','נלב\"ע','מ\"ר','שיחיה',\"שיחי'\",'אאמו\"ר','מו\"ח','זצלה\"ה','זצוקללה\"ה','ידינ\"פ']\n"
   ]
  },
  {
   "cell_type": "code",
   "execution_count": 29,
   "metadata": {},
   "outputs": [],
   "source": [
    "def heatmap(data, row_labels, col_labels,ratio = 1, ax=None,\n",
    "            cbar_kw={}, cbarlabel=\"\",w=False ,**kwargs):\n",
    "    \"\"\"\n",
    "    Create a heatmap from a numpy array and two lists of labels.\n",
    "\n",
    "    Parameters\n",
    "    ----------\n",
    "    data\n",
    "        A 2D numpy array of shape (N, M).\n",
    "    row_labels\n",
    "        A list or array of length N with the labels for the rows.\n",
    "    col_labels\n",
    "        A list or array of length M with the labels for the columns.\n",
    "    ax\n",
    "        A `matplotlib.axes.Axes` instance to which the heatmap is plotted.  If\n",
    "        not provided, use current axes or create a new one.  Optional.\n",
    "    cbar_kw\n",
    "        A dictionary with arguments to `matplotlib.Figure.colorbar`.  Optional.\n",
    "    cbarlabel\n",
    "        The label for the colorbar.  Optional.\n",
    "    **kwargs\n",
    "        All other arguments are forwarded to `imshow`.\n",
    "    \"\"\"\n",
    "\n",
    "    if not ax:\n",
    "        ax = plt.gca()\n",
    "\n",
    "    # Plot the heatmap\n",
    "    im = ax.imshow(data,aspect=ratio , **kwargs)\n",
    "\n",
    "    # Create colorbar\n",
    "    cbar = ax.figure.colorbar(im, ax=ax, **cbar_kw)\n",
    "    cbar.ax.set_ylabel(cbarlabel, rotation=-90, va=\"bottom\")\n",
    "\n",
    "    # We want to show all ticks...\n",
    "    ax.set_xticks(np.arange(data.shape[1]))\n",
    "    ax.set_yticks(np.arange(data.shape[0]))\n",
    "    # ... and label them with the respective list entries.\n",
    "    ax.set_xticklabels(col_labels)\n",
    "    ax.set_yticklabels(row_labels)\n",
    "\n",
    "    # Let the horizontal axes labeling appear on top.\n",
    "    ax.tick_params(top=True, bottom=False,\n",
    "                   labeltop=True, labelbottom=False)\n",
    "\n",
    "    # Rotate the tick labels and set their alignment.\n",
    "    plt.setp(ax.get_xticklabels(), rotation=-30, ha=\"right\",\n",
    "             rotation_mode=\"anchor\")\n",
    "\n",
    "    # Turn spines off and create white grid.\n",
    "    # for edge, spine in ax.spines.items():\n",
    "    #    spine.set_visible(False)\n",
    "\n",
    "    ax.set_xticks(np.arange(data.shape[1]+1)-.5, minor=True)\n",
    "    ax.set_yticks(np.arange(data.shape[0]+1)-.5, minor=True)\n",
    "    if w:\n",
    "        ax.grid(which=\"minor\", color=\"w\", linestyle='-', linewidth=3)\n",
    "    ax.tick_params(which=\"minor\", bottom=False, left=False)\n",
    "\n",
    "    return im, cbar"
   ]
  },
  {
   "cell_type": "code",
   "execution_count": 30,
   "metadata": {},
   "outputs": [],
   "source": [
    "a=gensim.models.Word2Vec.load(\"w2v_56_300dim_heb\")"
   ]
  },
  {
   "cell_type": "code",
   "execution_count": 16,
   "metadata": {},
   "outputs": [],
   "source": [
    "l,dim =utils.remove_dim_and_words(lst,a,dim_num=270)"
   ]
  },
  {
   "cell_type": "code",
   "execution_count": 31,
   "metadata": {},
   "outputs": [],
   "source": [
    "l,dim =utils.remove_dim_and_words(utils.name_list(a.wv.most_similar('הרשב\"א',topn=25)),a,dim_num=270)"
   ]
  },
  {
   "cell_type": "code",
   "execution_count": 5,
   "metadata": {},
   "outputs": [],
   "source": [
    "dif_words=[\"פרה\",\"דלת\",\"מכונית\",\"דלי\",\"כסף\",\"ניסן\",\"נשים\",\"פסול\"]\n",
    "zl=['זצ\"ל','זללה\"ה','ז\"ל','זצל\"ה','נ\"ע','זצוק\"ל','זלה\"ה']\n",
    "rabbi_names = ['מוהר\"ד', 'הגרא\"ח', 'מוהרש\"ז', 'הגרע\"י', 'מוהרי\"א', 'מוהר\"ש','הגריא\"ה','הגרי\"מ','הגריח\"ז']\n",
    "rishonim = [ 'הרשב\"א','הריטב\"א','הר\"ן','הרמב\"ן','הרא\"ש','הרמ\"ה','הרא\"ה','הראב\"ד','הרי\"ף']\n",
    "testlist=utils.remove_words_from_lst(lst,a,19)+zl+rabbi_names+rishonim+dif_words"
   ]
  },
  {
   "cell_type": "code",
   "execution_count": 5,
   "metadata": {},
   "outputs": [],
   "source": [
    "def vec_from_lst(l,a):\n",
    "    datavec=numpy.array([])\n",
    "    for i in l:\n",
    "        datavec=numpy.append(datavec,a.wv.word_vec( i ))\n",
    "    datavec = datavec.reshape(len(l), len(a.wv.get_vector(l[0])))\n",
    "    datavec.shape\n",
    "    return datavec"
   ]
  },
  {
   "cell_type": "markdown",
   "metadata": {},
   "source": [
    "datavec=numpy.array([])\n",
    "l=utils.remove_words_from_lst(lst,a,19)\n",
    "\n",
    "for i in l:\n",
    "    datavec=numpy.append(datavec,a.wv.word_vec( i ))\n",
    "datavec = np.append(datavec,utils.avg_vec_model(l,a))\n",
    "l.append(\"avg_core_words\")\n",
    "\n",
    "for i in zl:\n",
    "    datavec=numpy.append(datavec,a.wv.word_vec( i ))\n",
    "datavec = np.append(datavec,utils.avg_vec_model(zl,a))\n",
    "zl.append(\"avg_zl_words\")\n",
    "\n",
    "for i in rabbi_names:\n",
    "    datavec=numpy.append(datavec,a.wv.word_vec( i ))\n",
    "datavec = np.append(datavec,utils.avg_vec_model(rabbi_names,a))\n",
    "rabbi_names.append(\"avg_rabbi_names_words\")\n",
    "\n",
    "for i in rishonim:\n",
    "    datavec=numpy.append(datavec,a.wv.word_vec( i ))\n",
    "datavec = np.append(datavec,utils.avg_vec_model(rishonim,a))\n",
    "l.append(\"avg_rishonim_words\")\n",
    "\n",
    "datavec = datavec.reshape(len(l)+len(zl)+len(rabbi_names)+len(rishonim), len(a.wv.get_vector(l[0])))\n",
    "datavec.shape\n",
    "testlist=l+zl+rabbi_names+rishonim"
   ]
  },
  {
   "cell_type": "code",
   "execution_count": 32,
   "metadata": {},
   "outputs": [],
   "source": [
    "datavec=vec_from_lst(l,a)"
   ]
  },
  {
   "cell_type": "code",
   "execution_count": 34,
   "metadata": {
    "scrolled": false
   },
   "outputs": [
    {
     "data": {
      "image/png": "[encoded data removed]",
      "text/plain": [
       "<Figure size 864x576 with 2 Axes>"
      ]
     },
     "metadata": {
      "needs_background": "light"
     },
     "output_type": "display_data"
    }
   ],
   "source": [
    "\n",
    "fig, ax = plt.subplots()\n",
    "\n",
    "im, cbar = heatmap(datavec, l, range(len(a.wv.get_vector(l[0]))), ax=ax,\n",
    "                   cmap=\"seismic\",cbar_kw={'shrink': 0.7},ratio=2)\n",
    "fig_size = plt.gcf().get_size_inches() #Get current size\n",
    "sizefactor = 2 #Set a zoom factor\n",
    "# Modify the current size by the factor\n",
    "plt.gcf().set_size_inches(sizefactor * fig_size)\n",
    "#texts = annotate_heatmap(im, valfmt=\"{x:.1f} t\")\n",
    "plt.title\n",
    "fig.tight_layout()\n",
    "plt.show()"
   ]
  },
  {
   "cell_type": "code",
   "execution_count": 23,
   "metadata": {},
   "outputs": [],
   "source": [
    "z=[\"dfsf\",\"qwertyuiop\"]"
   ]
  },
  {
   "cell_type": "code",
   "execution_count": 27,
   "metadata": {},
   "outputs": [
    {
     "ename": "AttributeError",
     "evalue": "'str' object has no attribute 'reverse'",
     "output_type": "error",
     "traceback": [
      "\u001b[1;31m---------------------------------------------------------------------------\u001b[0m",
      "\u001b[1;31mAttributeError\u001b[0m                            Traceback (most recent call last)",
      "\u001b[1;32m<ipython-input-27-eeddcc46fa88>\u001b[0m in \u001b[0;36m<module>\u001b[1;34m\u001b[0m\n\u001b[1;32m----> 1\u001b[1;33m \u001b[0mz\u001b[0m\u001b[1;33m[\u001b[0m\u001b[1;36m0\u001b[0m\u001b[1;33m]\u001b[0m\u001b[1;33m.\u001b[0m\u001b[0mreverse\u001b[0m\u001b[1;33m(\u001b[0m\u001b[1;33m)\u001b[0m\u001b[1;33m\u001b[0m\u001b[1;33m\u001b[0m\u001b[0m\n\u001b[0m",
      "\u001b[1;31mAttributeError\u001b[0m: 'str' object has no attribute 'reverse'"
     ]
    }
   ],
   "source": [
    "str.r"
   ]
  },
  {
   "cell_type": "code",
   "execution_count": 50,
   "metadata": {},
   "outputs": [],
   "source": [
    "q=a.wv.get_vector(zl[2])"
   ]
  },
  {
   "cell_type": "code",
   "execution_count": 26,
   "metadata": {},
   "outputs": [
    {
     "data": {
      "text/plain": [
       "['qwertyuiop', 'dfsf']"
      ]
     },
     "execution_count": 26,
     "metadata": {},
     "output_type": "execute_result"
    }
   ],
   "source": [
    "z"
   ]
  },
  {
   "cell_type": "code",
   "execution_count": null,
   "metadata": {},
   "outputs": [],
   "source": []
  }
 ],
 "metadata": {
  "@webio": {
   "lastCommId": null,
   "lastKernelId": null
  },
  "kernelspec": {
   "display_name": "Python 3",
   "language": "python",
   "name": "python3"
  },
  "language_info": {
   "codemirror_mode": {
    "name": "ipython",
    "version": 3
   },
   "file_extension": ".py",
   "mimetype": "text/x-python",
   "name": "python",
   "nbconvert_exporter": "python",
   "pygments_lexer": "ipython3",
   "version": "3.7.4"
  }
 },
 "nbformat": 4,
 "nbformat_minor": 2
}
